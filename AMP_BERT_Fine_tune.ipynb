{
  "cells": [
    {
      "cell_type": "markdown",
      "metadata": {
        "id": "view-in-github",
        "colab_type": "text"
      },
      "source": [
        "<a href=\"https://colab.research.google.com/github/ArthurWallaceIFB/AnaliseAlgoritmos_Projeto1/blob/main/AMP_BERT_Fine_tune.ipynb\" target=\"_parent\"><img src=\"https://colab.research.google.com/assets/colab-badge.svg\" alt=\"Open In Colab\"/></a>"
      ]
    },
    {
      "cell_type": "code",
      "execution_count": null,
      "metadata": {
        "id": "cYhGE2zhpcgo",
        "colab": {
          "base_uri": "https://localhost:8080/"
        },
        "outputId": "c0f0f853-5515-4f18-8f94-e777954fce1f"
      },
      "outputs": [
        {
          "output_type": "stream",
          "name": "stdout",
          "text": [
            "Requirement already satisfied: transformers in /usr/local/lib/python3.10/dist-packages (4.31.0)\n",
            "Requirement already satisfied: filelock in /usr/local/lib/python3.10/dist-packages (from transformers) (3.12.2)\n",
            "Requirement already satisfied: huggingface-hub<1.0,>=0.14.1 in /usr/local/lib/python3.10/dist-packages (from transformers) (0.16.4)\n",
            "Requirement already satisfied: numpy>=1.17 in /usr/local/lib/python3.10/dist-packages (from transformers) (1.22.4)\n",
            "Requirement already satisfied: packaging>=20.0 in /usr/local/lib/python3.10/dist-packages (from transformers) (23.1)\n",
            "Requirement already satisfied: pyyaml>=5.1 in /usr/local/lib/python3.10/dist-packages (from transformers) (6.0)\n",
            "Requirement already satisfied: regex!=2019.12.17 in /usr/local/lib/python3.10/dist-packages (from transformers) (2022.10.31)\n",
            "Requirement already satisfied: requests in /usr/local/lib/python3.10/dist-packages (from transformers) (2.27.1)\n",
            "Requirement already satisfied: tokenizers!=0.11.3,<0.14,>=0.11.1 in /usr/local/lib/python3.10/dist-packages (from transformers) (0.13.3)\n",
            "Requirement already satisfied: safetensors>=0.3.1 in /usr/local/lib/python3.10/dist-packages (from transformers) (0.3.1)\n",
            "Requirement already satisfied: tqdm>=4.27 in /usr/local/lib/python3.10/dist-packages (from transformers) (4.65.0)\n",
            "Requirement already satisfied: fsspec in /usr/local/lib/python3.10/dist-packages (from huggingface-hub<1.0,>=0.14.1->transformers) (2023.6.0)\n",
            "Requirement already satisfied: typing-extensions>=3.7.4.3 in /usr/local/lib/python3.10/dist-packages (from huggingface-hub<1.0,>=0.14.1->transformers) (4.7.1)\n",
            "Requirement already satisfied: urllib3<1.27,>=1.21.1 in /usr/local/lib/python3.10/dist-packages (from requests->transformers) (1.26.16)\n",
            "Requirement already satisfied: certifi>=2017.4.17 in /usr/local/lib/python3.10/dist-packages (from requests->transformers) (2023.5.7)\n",
            "Requirement already satisfied: charset-normalizer~=2.0.0 in /usr/local/lib/python3.10/dist-packages (from requests->transformers) (2.0.12)\n",
            "Requirement already satisfied: idna<4,>=2.5 in /usr/local/lib/python3.10/dist-packages (from requests->transformers) (3.4)\n",
            "Requirement already satisfied: accelerate in /usr/local/lib/python3.10/dist-packages (0.21.0)\n",
            "Requirement already satisfied: numpy>=1.17 in /usr/local/lib/python3.10/dist-packages (from accelerate) (1.22.4)\n",
            "Requirement already satisfied: packaging>=20.0 in /usr/local/lib/python3.10/dist-packages (from accelerate) (23.1)\n",
            "Requirement already satisfied: psutil in /usr/local/lib/python3.10/dist-packages (from accelerate) (5.9.5)\n",
            "Requirement already satisfied: pyyaml in /usr/local/lib/python3.10/dist-packages (from accelerate) (6.0)\n",
            "Requirement already satisfied: torch>=1.10.0 in /usr/local/lib/python3.10/dist-packages (from accelerate) (2.0.1+cu118)\n",
            "Requirement already satisfied: filelock in /usr/local/lib/python3.10/dist-packages (from torch>=1.10.0->accelerate) (3.12.2)\n",
            "Requirement already satisfied: typing-extensions in /usr/local/lib/python3.10/dist-packages (from torch>=1.10.0->accelerate) (4.7.1)\n",
            "Requirement already satisfied: sympy in /usr/local/lib/python3.10/dist-packages (from torch>=1.10.0->accelerate) (1.11.1)\n",
            "Requirement already satisfied: networkx in /usr/local/lib/python3.10/dist-packages (from torch>=1.10.0->accelerate) (3.1)\n",
            "Requirement already satisfied: jinja2 in /usr/local/lib/python3.10/dist-packages (from torch>=1.10.0->accelerate) (3.1.2)\n",
            "Requirement already satisfied: triton==2.0.0 in /usr/local/lib/python3.10/dist-packages (from torch>=1.10.0->accelerate) (2.0.0)\n",
            "Requirement already satisfied: cmake in /usr/local/lib/python3.10/dist-packages (from triton==2.0.0->torch>=1.10.0->accelerate) (3.25.2)\n",
            "Requirement already satisfied: lit in /usr/local/lib/python3.10/dist-packages (from triton==2.0.0->torch>=1.10.0->accelerate) (16.0.6)\n",
            "Requirement already satisfied: MarkupSafe>=2.0 in /usr/local/lib/python3.10/dist-packages (from jinja2->torch>=1.10.0->accelerate) (2.1.3)\n",
            "Requirement already satisfied: mpmath>=0.19 in /usr/local/lib/python3.10/dist-packages (from sympy->torch>=1.10.0->accelerate) (1.3.0)\n"
          ]
        }
      ],
      "source": [
        "!pip install transformers\n",
        "!pip install accelerate -U"
      ]
    },
    {
      "cell_type": "code",
      "execution_count": null,
      "metadata": {
        "colab": {
          "base_uri": "https://localhost:8080/",
          "height": 356
        },
        "id": "c8wIZMbgrdGa",
        "outputId": "fa3ccfa0-7ab6-4815-b761-b4c49621721d"
      },
      "outputs": [
        {
          "output_type": "error",
          "ename": "NameError",
          "evalue": "ignored",
          "traceback": [
            "\u001b[0;31m---------------------------------------------------------------------------\u001b[0m",
            "\u001b[0;31mNameError\u001b[0m                                 Traceback (most recent call last)",
            "\u001b[0;32m<ipython-input-9-ea143d186886>\u001b[0m in \u001b[0;36m<cell line: 4>\u001b[0;34m()\u001b[0m\n\u001b[1;32m      2\u001b[0m \u001b[0;32mimport\u001b[0m \u001b[0mpandas\u001b[0m \u001b[0;32mas\u001b[0m \u001b[0mpd\u001b[0m\u001b[0;34m\u001b[0m\u001b[0;34m\u001b[0m\u001b[0m\n\u001b[1;32m      3\u001b[0m \u001b[0;32mimport\u001b[0m \u001b[0mnumpy\u001b[0m \u001b[0;32mas\u001b[0m \u001b[0mnp\u001b[0m\u001b[0;34m\u001b[0m\u001b[0;34m\u001b[0m\u001b[0m\n\u001b[0;32m----> 4\u001b[0;31m \u001b[0;32mimport\u001b[0m \u001b[0mtorch\u001b[0m\u001b[0;34m\u001b[0m\u001b[0;34m\u001b[0m\u001b[0m\n\u001b[0m\u001b[1;32m      5\u001b[0m \u001b[0;32mimport\u001b[0m \u001b[0mre\u001b[0m\u001b[0;34m\u001b[0m\u001b[0;34m\u001b[0m\u001b[0m\n\u001b[1;32m      6\u001b[0m \u001b[0;34m\u001b[0m\u001b[0m\n",
            "\u001b[0;32m/usr/local/lib/python3.10/dist-packages/torch/__init__.py\u001b[0m in \u001b[0;36m<module>\u001b[0;34m\u001b[0m\n\u001b[1;32m    455\u001b[0m     \u001b[0;32mraise\u001b[0m  \u001b[0;31m# If __file__ is not None the cause is unknown, so just re-raise.\u001b[0m\u001b[0;34m\u001b[0m\u001b[0;34m\u001b[0m\u001b[0m\n\u001b[1;32m    456\u001b[0m \u001b[0;34m\u001b[0m\u001b[0m\n\u001b[0;32m--> 457\u001b[0;31m \u001b[0;32mfor\u001b[0m \u001b[0mname\u001b[0m \u001b[0;32min\u001b[0m \u001b[0mdir\u001b[0m\u001b[0;34m(\u001b[0m\u001b[0m_C\u001b[0m\u001b[0;34m)\u001b[0m\u001b[0;34m:\u001b[0m\u001b[0;34m\u001b[0m\u001b[0;34m\u001b[0m\u001b[0m\n\u001b[0m\u001b[1;32m    458\u001b[0m     \u001b[0;32mif\u001b[0m \u001b[0mname\u001b[0m\u001b[0;34m[\u001b[0m\u001b[0;36m0\u001b[0m\u001b[0;34m]\u001b[0m \u001b[0;34m!=\u001b[0m \u001b[0;34m'_'\u001b[0m \u001b[0;32mand\u001b[0m \u001b[0;32mnot\u001b[0m \u001b[0mname\u001b[0m\u001b[0;34m.\u001b[0m\u001b[0mendswith\u001b[0m\u001b[0;34m(\u001b[0m\u001b[0;34m'Base'\u001b[0m\u001b[0;34m)\u001b[0m\u001b[0;34m:\u001b[0m\u001b[0;34m\u001b[0m\u001b[0;34m\u001b[0m\u001b[0m\n\u001b[1;32m    459\u001b[0m         \u001b[0m__all__\u001b[0m\u001b[0;34m.\u001b[0m\u001b[0mappend\u001b[0m\u001b[0;34m(\u001b[0m\u001b[0mname\u001b[0m\u001b[0;34m)\u001b[0m\u001b[0;34m\u001b[0m\u001b[0;34m\u001b[0m\u001b[0m\n",
            "\u001b[0;31mNameError\u001b[0m: name '_C' is not defined"
          ]
        }
      ],
      "source": [
        "import os\n",
        "import pandas as pd\n",
        "import numpy as np\n",
        "import torch\n",
        "import re\n",
        "\n",
        "from sklearn.metrics import accuracy_score, precision_recall_fscore_support\n",
        "from torch.utils.data import Dataset, DataLoader\n",
        "\n",
        "torch.cuda.is_available()\n",
        "device = torch.device(\"cuda\" if torch.cuda.is_available() else \"cpu\")\n",
        "print(device)\n",
        "\n",
        "from transformers import AutoTokenizer, Trainer, TrainingArguments, AdamW"
      ]
    },
    {
      "cell_type": "code",
      "execution_count": null,
      "metadata": {
        "id": "lb579FMwrdKU"
      },
      "outputs": [],
      "source": [
        "class amp_data():\n",
        "    def __init__(self, df, tokenizer_name='Rostlab/prot_bert_bfd', max_len=200):\n",
        "\n",
        "        self.tokenizer = BertTokenizer.from_pretrained(tokenizer_name, do_lower_case=False)\n",
        "        self.max_len = max_len\n",
        "        self.seqs, self.labels = self.get_seqs_labels()\n",
        "\n",
        "    def get_seqs_labels(self):\n",
        "        seqs = list(df['aa_seq'])\n",
        "        labels = list(df['AMP'].astype(int))\n",
        "\n",
        "        return seqs, labels\n",
        "\n",
        "    def __len__(self):\n",
        "\n",
        "        return len(self.labels)\n",
        "\n",
        "    def __getitem__(self, idx):\n",
        "\n",
        "        seq = \" \".join(\"\".join(self.seqs[idx].split()))\n",
        "        seq_ids = self.tokenizer(seq, truncation=True, padding='max_length', max_length=self.max_len)\n",
        "        sample = {key: torch.tensor(val) for key, val in seq_ids.items()}\n",
        "        sample['labels'] = torch.tensor(self.labels[idx])\n",
        "\n",
        "\n",
        "        return sample"
      ]
    },
    {
      "cell_type": "code",
      "execution_count": null,
      "metadata": {
        "id": "n4jrGQT6rdRA"
      },
      "outputs": [],
      "source": [
        "# define the necessary metrics for performance evaluation\n",
        "\n",
        "def compute_metrics(pred):\n",
        "    labels = pred.label_ids\n",
        "    preds = pred.predictions.argmax(-1)\n",
        "    precision, recall, f1, _ = precision_recall_fscore_support(labels, preds, average='binary')\n",
        "    acc = accuracy_score(labels, preds)\n",
        "#     conf = confusion_matrix(labels, preds)\n",
        "    return {\n",
        "        'accuracy': acc,\n",
        "        'f1': f1,\n",
        "        'precision': precision,\n",
        "        'recall': recall,\n",
        "#         'confusion matrix': conf\n",
        "    }"
      ]
    },
    {
      "cell_type": "markdown",
      "metadata": {
        "id": "enD_tPCyRE3p"
      },
      "source": [
        "# Treinamento para AMP e Não-AMP"
      ]
    },
    {
      "cell_type": "code",
      "execution_count": null,
      "metadata": {
        "id": "BBymtbXgrdOc"
      },
      "outputs": [],
      "source": [
        "# read in the train dataset\n",
        "# create an amp_data class of the dataset\n",
        "\n",
        "data_url = 'https://raw.githubusercontent.com/GIST-CSBL/AMP-BERT/main/all_veltri.csv'\n",
        "df = pd.read_csv(data_url, index_col = 0)\n",
        "df = df.sample(frac=1, random_state = 0)\n",
        "print(df.head(7))\n",
        "\n",
        "train_dataset = amp_data(df)"
      ]
    },
    {
      "cell_type": "code",
      "execution_count": null,
      "metadata": {
        "id": "j-pQako9rdTQ"
      },
      "outputs": [],
      "source": [
        "# define the model initializing function for Trainer in huggingface\n",
        "\n",
        "def model_init():\n",
        "    return BertForSequenceClassification.from_pretrained('Rostlab/prot_bert_bfd')"
      ]
    },
    {
      "cell_type": "code",
      "execution_count": null,
      "metadata": {
        "id": "hk0ETN8brdVR"
      },
      "outputs": [],
      "source": [
        "# training on entire data\n",
        "# no evaluation/validation\n",
        "\n",
        "training_args = TrainingArguments(\n",
        "    output_dir='./results',\n",
        "    num_train_epochs=20,\n",
        "    learning_rate = 5e-5,\n",
        "    per_device_train_batch_size=1,\n",
        "    warmup_steps=0,\n",
        "    weight_decay=0.1,\n",
        "    logging_dir='./logs',\n",
        "    logging_steps=100,\n",
        "    do_train=True,\n",
        "    do_eval=True,\n",
        "    evaluation_strategy=\"no\",\n",
        "    save_strategy='no',\n",
        "    gradient_accumulation_steps=64,\n",
        "    fp16=True,\n",
        "    fp16_opt_level=\"O2\",\n",
        "    run_name=\"AMP-BERT\",\n",
        "    seed=0,\n",
        "    load_best_model_at_end = True\n",
        ")\n",
        "\n",
        "trainer = Trainer(\n",
        "    model_init=model_init,\n",
        "    args=training_args,\n",
        "    train_dataset=train_dataset,\n",
        "    compute_metrics = compute_metrics,\n",
        ")\n",
        "\n",
        "trainer.train()"
      ]
    },
    {
      "cell_type": "code",
      "execution_count": null,
      "metadata": {
        "id": "NVOmwxYarr4w"
      },
      "outputs": [],
      "source": [
        "# performance metrics on the training data itself\n",
        "\n",
        "predictions, label_ids, metrics = trainer.predict(train_dataset)\n",
        "metrics"
      ]
    },
    {
      "cell_type": "code",
      "execution_count": null,
      "metadata": {
        "id": "f6JgOpbw9q4Y"
      },
      "outputs": [],
      "source": [
        "# save the model, if desired\n",
        "from google.colab import drive\n",
        "drive.mount('/content/drive')\n",
        "\n",
        "trainer.save_model('/content/drive/MyDrive/Colab Notebooks/AMP-BERT/Fine-tuned_model/')"
      ]
    },
    {
      "cell_type": "code",
      "execution_count": null,
      "metadata": {
        "id": "xqdIvYee4i_v"
      },
      "outputs": [],
      "source": [
        "# predict AMP/non-AMP for a single example\n",
        "\n",
        "# IMPORTANT:\n",
        "# one must mount their Google Drive and load their own fine-tuned model before running the below cell for individual predictions\n",
        "from google.colab import drive\n",
        "drive.mount('/content/drive')\n",
        "\n",
        "# load appropriate tokenizer and fine-tuned model\n",
        "tokenizer = AutoTokenizer.from_pretrained('Rostlab/prot_bert_bfd', do_lower_case=False)\n",
        "model = BertForSequenceClassification.from_pretrained(\"/content/drive/MyDrive/Colab Notebooks/AMP-BERT/Fine-tuned_model/\")"
      ]
    },
    {
      "cell_type": "code",
      "execution_count": null,
      "metadata": {
        "id": "3q3GujE3_csL"
      },
      "outputs": [],
      "source": [
        "# predict AMP/non-AMP for a single example (default ex. is from external test data: DRAMP00126)\n",
        "\n",
        "#@markdown **Input peptide sequence (upper case only)**\n",
        "input_seq = 'DLIPTSSKLVVRDTSLQVKKAFFALVT' #@param {type:\"string\"}\n",
        "input_seq_spaced = ' '.join([ input_seq[i:i+1] for i in range(0, len(input_seq), 1) ])\n",
        "input_seq_spaced = re.sub(r'[UZOB]', 'X', input_seq_spaced)\n",
        "input_seq_tok = tokenizer(input_seq_spaced, return_tensors = 'pt')\n",
        "\n",
        "output = model(**input_seq_tok)\n",
        "logits = output[0]\n",
        "\n",
        "# extract AMP class probability and make binary prediction\n",
        "y_prob = torch.sigmoid(logits)[:,1].detach().numpy()\n",
        "y_pred = y_prob > 0.5\n",
        "if y_pred == True:\n",
        "  input_class = 'AMP'\n",
        "else:\n",
        "  input_class = 'non-AMP'\n",
        "\n",
        "print('Input peptide sequence: ' + input_seq)\n",
        "print('Class prediction: ' + input_class)"
      ]
    },
    {
      "cell_type": "markdown",
      "metadata": {
        "id": "biP3sElzRwiU"
      },
      "source": [
        "# Fine Tuning"
      ]
    },
    {
      "cell_type": "markdown",
      "metadata": {
        "id": "2ZD2YjFHB5U_"
      },
      "source": [
        "**FINE-TUNING PARA O MÉTODO MASK DO BART**"
      ]
    },
    {
      "cell_type": "code",
      "execution_count": null,
      "metadata": {
        "id": "Y741Ml3sC_jU"
      },
      "outputs": [],
      "source": [
        "data_url = 'https://raw.githubusercontent.com/GIST-CSBL/AMP-BERT/main/all_veltri.csv'\n",
        "df = pd.read_csv(data_url, index_col = 0)\n",
        "df = df.sample(frac=1, random_state = 0)\n",
        "# print(df.head(7))\n",
        "\n",
        "new_df = df[df['AMP'] == True]\n",
        "\n",
        "fine_tuning_dataset = amp_data(new_df)\n",
        "print(fine_tuning_dataset)"
      ]
    },
    {
      "cell_type": "code",
      "source": [
        "new_df"
      ],
      "metadata": {
        "id": "I0CXHuf7gtTN"
      },
      "execution_count": null,
      "outputs": []
    },
    {
      "cell_type": "code",
      "execution_count": null,
      "metadata": {
        "id": "bGSLW2G3TMU9"
      },
      "outputs": [],
      "source": [
        "# define the model initializing function for Trainer in huggingface\n",
        "from transformers import BertForMaskedLM, BertTokenizer, pipeline, AutoModelForMaskedLM\n",
        "def model_init_amp():\n",
        "    return AutoModelForMaskedLM.from_pretrained('Rostlab/prot_bert_bfd')"
      ]
    },
    {
      "cell_type": "code",
      "execution_count": null,
      "metadata": {
        "id": "9XPnHUZpTgFs"
      },
      "outputs": [],
      "source": [
        "# define the necessary metrics for performance evaluation\n",
        "\n",
        "def compute_metrics(pred):\n",
        "    labels = pred.label_ids\n",
        "    preds = pred.predictions.argmax(-1)\n",
        "    precision, recall, f1, _ = precision_recall_fscore_support(labels, preds, average='binary')\n",
        "    acc = accuracy_score(labels, preds)\n",
        "#     conf = confusion_matrix(labels, preds)\n",
        "    return {\n",
        "        'accuracy': acc,\n",
        "        'f1': f1,\n",
        "        'precision': precision,\n",
        "        'recall': recall,\n",
        "#         'confusion matrix': conf\n",
        "    }"
      ]
    },
    {
      "cell_type": "code",
      "source": [
        "# TREINAMENTO PARA O DATASET DE FINE TUNING - APENAS PARA OS CASOS POSITIVOS DE AMP\n",
        "%debug\n",
        "fine_tuning_args = TrainingArguments(\n",
        "    output_dir='./results_fine_tuning_amp',\n",
        "    num_train_epochs=3,\n",
        "    learning_rate=5e-5,\n",
        "    per_device_train_batch_size=1,\n",
        "    warmup_steps=0,\n",
        "    weight_decay=0.1,\n",
        "    logging_dir='./logs_fine_tuning_amp',\n",
        "    logging_steps=100,\n",
        "    do_train=True,\n",
        "    do_eval=True,\n",
        "    evaluation_strategy=\"no\",\n",
        "    save_strategy='no',\n",
        "    gradient_accumulation_steps=64,\n",
        "    fp16=True,\n",
        "    fp16_opt_level=\"O2\",\n",
        "    run_name=\"AMP-BERT-fine-tuning\",\n",
        "    seed=0,\n",
        "    load_best_model_at_end=True\n",
        ")\n",
        "\n",
        "trainer_fine_tuning = Trainer(\n",
        "    model_init=model_init_amp,  # Utilizar o mesmo modelo inicializado anteriormente\n",
        "    args=fine_tuning_args,\n",
        "    train_dataset=fine_tuning_dataset,  # Utilizar o dataset de fine-tuning\n",
        "    compute_metrics=compute_metrics,\n",
        ")\n",
        "\n",
        "trainer_fine_tuning.train()"
      ],
      "metadata": {
        "id": "WicxyvXzZvqi"
      },
      "execution_count": null,
      "outputs": []
    },
    {
      "cell_type": "code",
      "execution_count": null,
      "metadata": {
        "id": "uU_wZf5ioMU7"
      },
      "outputs": [],
      "source": [
        "# save the model, if desired\n",
        "from google.colab import drive\n",
        "drive.mount('/content/drive')\n",
        "\n",
        "trainer_fine_tuning.save_model('/content/drive/MyDrive/AMP-BERT/Fine-tuned_model-AMP/')"
      ]
    },
    {
      "cell_type": "code",
      "execution_count": null,
      "metadata": {
        "id": "s00pq3PtoRiA"
      },
      "outputs": [],
      "source": [
        "# predict AMP/non-AMP for a single example\n",
        "\n",
        "# IMPORTANT:\n",
        "# one must mount their Google Drive and load their own fine-tuned model before running the below cell for individual predictions\n",
        "# from google.colab import drive\n",
        "# drive.mount('/content/drive')\n",
        "\n",
        "# load appropriate tokenizer and fine-tuned model\n",
        "# tokenizer = AutoTokenizer.from_pretrained('Rostlab/prot_bert_bfd', do_lower_case=False)\n",
        "# model = BertForSequenceClassification.from_pretrained(\"/content/drive/MyDrive/Colab Notebooks/AMP-BERT/Fine-tuned_model-AMP\")\n",
        "from transformers import BertTokenizer, BertForMaskedLM\n",
        "tokenizer_fine = BertTokenizer.from_pretrained('Rostlab/prot_bert_bfd', do_lower_case=False)\n",
        "model_fine = BertForMaskedLM.from_pretrained(\"/content/drive/MyDrive/AMP-BERT/Fine-tuned_model-AMP\")"
      ]
    },
    {
      "cell_type": "code",
      "execution_count": null,
      "metadata": {
        "id": "_a5ar9S-TYck"
      },
      "outputs": [],
      "source": [
        "from transformers import BertForMaskedLM, BertTokenizer, pipeline\n",
        "# tokenizer = BertTokenizer.from_pretrained(\"Rostlab/prot_bert\", do_lower_case=False )\n",
        "# model = BertForMaskedLM.from_pretrained(\"Rostlab/prot_bert\")\n",
        "unmasker = pipeline('fill-mask', model=model_fine, tokenizer=tokenizer_fine)\n",
        "input_seq = 'D L I P T S S K L V V [MASK] D T S L Q V K K A F F A L V T' #@param {type:\"string\"}\n",
        "unmasker(input_seq)"
      ]
    }
  ],
  "metadata": {
    "accelerator": "GPU",
    "colab": {
      "provenance": [],
      "include_colab_link": true
    },
    "kernelspec": {
      "display_name": "Python 3",
      "name": "python3"
    },
    "language_info": {
      "name": "python"
    }
  },
  "nbformat": 4,
  "nbformat_minor": 0
}